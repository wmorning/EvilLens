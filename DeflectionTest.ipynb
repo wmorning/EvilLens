{
 "metadata": {
  "name": "",
  "signature": "sha256:3dda45ab80a8dea81e2f9fd9abb636d046d4f0f34f522e4487cce679c4838e68"
 },
 "nbformat": 3,
 "nbformat_minor": 0,
 "worksheets": [
  {
   "cells": [
    {
     "cell_type": "markdown",
     "metadata": {},
     "source": [
      "# Deflection angle testing\n",
      "\n",
      "Compute deflection angles both analytically and numerically, and make sure they agree. Mass distribution: SIE. "
     ]
    },
    {
     "cell_type": "code",
     "collapsed": false,
     "input": [
      "import evillens as evil"
     ],
     "language": "python",
     "metadata": {},
     "outputs": [],
     "prompt_number": 2
    },
    {
     "cell_type": "code",
     "collapsed": false,
     "input": [
      "SIElens = evil.AnalyticSIELens(0.4,1.5)\n",
      "SIElens.deflect()\n",
      "print SIElens.alpha_x"
     ],
     "language": "python",
     "metadata": {},
     "outputs": [
      {
       "output_type": "stream",
       "stream": "stdout",
       "text": [
        "[[ -5.51860207e-01  -3.40505742e-01   4.59242550e-17   3.40505742e-01\n",
        "    5.51860207e-01]\n",
        " [ -7.17812791e-01  -5.51860207e-01   4.59242550e-17   5.51860207e-01\n",
        "    7.17812791e-01]\n",
        " [ -8.19503607e-01  -8.19503607e-01   8.19503607e-01   8.19503607e-01\n",
        "    8.19503607e-01]\n",
        " [ -7.17812791e-01  -5.51860207e-01   4.59242550e-17   5.51860207e-01\n",
        "    7.17812791e-01]\n",
        " [ -5.51860207e-01  -3.40505742e-01   4.59242550e-17   3.40505742e-01\n",
        "    5.51860207e-01]] rad\n"
       ]
      }
     ],
     "prompt_number": 3
    },
    {
     "cell_type": "code",
     "collapsed": false,
     "input": [],
     "language": "python",
     "metadata": {},
     "outputs": []
    }
   ],
   "metadata": {}
  }
 ]
}