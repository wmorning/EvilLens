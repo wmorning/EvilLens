{
 "metadata": {
  "name": "",
  "signature": "sha256:fe31dae99c22318c5ebad496ea43d39f7d52ad47df20bf4f488b0fa648154b3b"
 },
 "nbformat": 3,
 "nbformat_minor": 0,
 "worksheets": [
  {
   "cells": [
    {
     "cell_type": "markdown",
     "metadata": {},
     "source": [
      "# Deflection angle testing\n",
      "\n",
      "Compute deflection angles both analytically and numerically, and make sure they agree. Mass distribution: SIE. "
     ]
    },
    {
     "cell_type": "code",
     "collapsed": false,
     "input": [
      "import evillens as evil\n",
      "import matplotlib.pyplot as plt"
     ],
     "language": "python",
     "metadata": {},
     "outputs": [],
     "prompt_number": 1
    },
    {
     "cell_type": "code",
     "collapsed": false,
     "input": [
      "SIElens = evil.AnalyticSIELens(0.4,1.5)\n",
      "SIElens.deflect()\n",
      "print SIElens.alpha_x"
     ],
     "language": "python",
     "metadata": {},
     "outputs": [
      {
       "output_type": "stream",
       "stream": "stdout",
       "text": [
        "[[-0.55186021 -0.54577791 -0.53952819 ...,  0.53310682  0.53952819\n",
        "   0.54577791]\n",
        " [-0.55789843 -0.55186021 -0.54565205 ...,  0.53926948  0.54565205\n",
        "   0.55186021]\n",
        " [-0.56401234 -0.55802245 -0.55186021 ...,  0.54552087  0.55186021\n",
        "   0.55802245]\n",
        " ..., \n",
        " [-0.57020057 -0.56426347 -0.55815168 ...,  0.55186021  0.55815168\n",
        "   0.56426347]\n",
        " [-0.56401234 -0.55802245 -0.55186021 ...,  0.54552087  0.55186021\n",
        "   0.55802245]\n",
        " [-0.55789843 -0.55186021 -0.54565205 ...,  0.53926948  0.54565205\n",
        "   0.55186021]]\n"
       ]
      }
     ],
     "prompt_number": 2
    },
    {
     "cell_type": "code",
     "collapsed": false,
     "input": [
      "SIElens.build_kappa_map()\n",
      "print(SIElens.kappa)"
     ],
     "language": "python",
     "metadata": {},
     "outputs": [
      {
       "output_type": "stream",
       "stream": "stdout",
       "text": [
        "3.31260486217e+16 kg km2 / (m3 Mpc)\n",
        "0.220752092868\n",
        "[[ 0.01668729  0.01683072  0.0169749  ...,  0.01711977  0.0169749\n",
        "   0.01683072]\n",
        " [ 0.01687936  0.01702785  0.0171772  ...,  0.01732735  0.0171772\n",
        "   0.01702785]\n",
        " [ 0.01707413  0.01722787  0.01738259 ...,  0.01753824  0.01738259\n",
        "   0.01722787]\n",
        " ..., \n",
        " [ 0.01727158  0.01743075  0.01759106 ...,  0.01775244  0.01759106\n",
        "   0.01743075]\n",
        " [ 0.01707413  0.01722787  0.01738259 ...,  0.01753824  0.01738259\n",
        "   0.01722787]\n",
        " [ 0.01687936  0.01702785  0.0171772  ...,  0.01732735  0.0171772\n",
        "   0.01702785]]"
       ]
      },
      {
       "output_type": "stream",
       "stream": "stdout",
       "text": [
        "\n"
       ]
      },
      {
       "output_type": "stream",
       "stream": "stderr",
       "text": [
        "/Users/warrenmorningstar/anaconda/lib/python2.7/site-packages/astropy/units/quantity.py:643: RuntimeWarning: divide by zero encountered in true_divide\n",
        "  return np.true_divide(self, other)\n"
       ]
      }
     ],
     "prompt_number": 3
    },
    {
     "cell_type": "code",
     "collapsed": false,
     "input": [
      "print(SIElens.sigma)"
     ],
     "language": "python",
     "metadata": {},
     "outputs": [
      {
       "output_type": "stream",
       "stream": "stdout",
       "text": [
        "70000.0 km / s\n"
       ]
      }
     ],
     "prompt_number": 4
    },
    {
     "cell_type": "code",
     "collapsed": false,
     "input": [
      "print(SIElens.kappa)"
     ],
     "language": "python",
     "metadata": {},
     "outputs": [
      {
       "output_type": "stream",
       "stream": "stdout",
       "text": [
        "[[ 0.01668729  0.01683072  0.0169749  ...,  0.01711977  0.0169749\n",
        "   0.01683072]\n",
        " [ 0.01687936  0.01702785  0.0171772  ...,  0.01732735  0.0171772\n",
        "   0.01702785]\n",
        " [ 0.01707413  0.01722787  0.01738259 ...,  0.01753824  0.01738259\n",
        "   0.01722787]\n",
        " ..., \n",
        " [ 0.01727158  0.01743075  0.01759106 ...,  0.01775244  0.01759106\n",
        "   0.01743075]\n",
        " [ 0.01707413  0.01722787  0.01738259 ...,  0.01753824  0.01738259\n",
        "   0.01722787]\n",
        " [ 0.01687936  0.01702785  0.0171772  ...,  0.01732735  0.0171772\n",
        "   0.01702785]]\n"
       ]
      }
     ],
     "prompt_number": 9
    },
    {
     "cell_type": "code",
     "collapsed": false,
     "input": [],
     "language": "python",
     "metadata": {},
     "outputs": []
    }
   ],
   "metadata": {}
  }
 ]
}